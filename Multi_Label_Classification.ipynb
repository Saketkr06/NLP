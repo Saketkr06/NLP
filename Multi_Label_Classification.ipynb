{
  "nbformat": 4,
  "nbformat_minor": 0,
  "metadata": {
    "colab": {
      "provenance": [],
      "gpuType": "T4",
      "authorship_tag": "ABX9TyNHx7yXb/ZEhjkGOThBcF1y",
      "include_colab_link": true
    },
    "kernelspec": {
      "name": "python3",
      "display_name": "Python 3"
    },
    "language_info": {
      "name": "python"
    },
    "accelerator": "GPU"
  },
  "cells": [
    {
      "cell_type": "markdown",
      "metadata": {
        "id": "view-in-github",
        "colab_type": "text"
      },
      "source": [
        "<a href=\"https://colab.research.google.com/github/Saketkr06/NLP/blob/main/Multi_Label_Classification.ipynb\" target=\"_parent\"><img src=\"https://colab.research.google.com/assets/colab-badge.svg\" alt=\"Open In Colab\"/></a>"
      ]
    },
    {
      "cell_type": "code",
      "execution_count": 1,
      "metadata": {
        "id": "cAOosuxW2Aie"
      },
      "outputs": [],
      "source": [
        "from tensorflow.keras import layers\n",
        "from tensorflow import keras\n",
        "import tensorflow as tf\n",
        "\n",
        "from sklearn.model_selection import train_test_split\n",
        "from ast import literal_eval\n",
        "\n",
        "import matplotlib.pyplot as plt\n",
        "import pandas as pd\n",
        "import numpy as np"
      ]
    },
    {
      "cell_type": "code",
      "source": [
        "arxiv_data=pd.read_csv(\n",
        "    \"https://github.com/soumik12345/multi-label-text-classification/releases/download/v0.2/arxiv_data.csv\"\n",
        ")\n",
        "arxiv_data.head()"
      ],
      "metadata": {
        "colab": {
          "base_uri": "https://localhost:8080/",
          "height": 293
        },
        "id": "mxo-ttO03zPm",
        "outputId": "9af5bae9-b6e6-43a3-b090-649dc19ce52b"
      },
      "execution_count": 2,
      "outputs": [
        {
          "output_type": "execute_result",
          "data": {
            "text/plain": [
              "                                              titles  \\\n",
              "0  Survey on Semantic Stereo Matching / Semantic ...   \n",
              "1  FUTURE-AI: Guiding Principles and Consensus Re...   \n",
              "2  Enforcing Mutual Consistency of Hard Regions f...   \n",
              "3  Parameter Decoupling Strategy for Semi-supervi...   \n",
              "4  Background-Foreground Segmentation for Interio...   \n",
              "\n",
              "                                           summaries  \\\n",
              "0  Stereo matching is one of the widely used tech...   \n",
              "1  The recent advancements in artificial intellig...   \n",
              "2  In this paper, we proposed a novel mutual cons...   \n",
              "3  Consistency training has proven to be an advan...   \n",
              "4  To ensure safety in automated driving, the cor...   \n",
              "\n",
              "                         terms  \n",
              "0           ['cs.CV', 'cs.LG']  \n",
              "1  ['cs.CV', 'cs.AI', 'cs.LG']  \n",
              "2           ['cs.CV', 'cs.AI']  \n",
              "3                    ['cs.CV']  \n",
              "4           ['cs.CV', 'cs.LG']  "
            ],
            "text/html": [
              "\n",
              "  <div id=\"df-86f1e9eb-8be6-42ad-8209-f2d6539c36aa\" class=\"colab-df-container\">\n",
              "    <div>\n",
              "<style scoped>\n",
              "    .dataframe tbody tr th:only-of-type {\n",
              "        vertical-align: middle;\n",
              "    }\n",
              "\n",
              "    .dataframe tbody tr th {\n",
              "        vertical-align: top;\n",
              "    }\n",
              "\n",
              "    .dataframe thead th {\n",
              "        text-align: right;\n",
              "    }\n",
              "</style>\n",
              "<table border=\"1\" class=\"dataframe\">\n",
              "  <thead>\n",
              "    <tr style=\"text-align: right;\">\n",
              "      <th></th>\n",
              "      <th>titles</th>\n",
              "      <th>summaries</th>\n",
              "      <th>terms</th>\n",
              "    </tr>\n",
              "  </thead>\n",
              "  <tbody>\n",
              "    <tr>\n",
              "      <th>0</th>\n",
              "      <td>Survey on Semantic Stereo Matching / Semantic ...</td>\n",
              "      <td>Stereo matching is one of the widely used tech...</td>\n",
              "      <td>['cs.CV', 'cs.LG']</td>\n",
              "    </tr>\n",
              "    <tr>\n",
              "      <th>1</th>\n",
              "      <td>FUTURE-AI: Guiding Principles and Consensus Re...</td>\n",
              "      <td>The recent advancements in artificial intellig...</td>\n",
              "      <td>['cs.CV', 'cs.AI', 'cs.LG']</td>\n",
              "    </tr>\n",
              "    <tr>\n",
              "      <th>2</th>\n",
              "      <td>Enforcing Mutual Consistency of Hard Regions f...</td>\n",
              "      <td>In this paper, we proposed a novel mutual cons...</td>\n",
              "      <td>['cs.CV', 'cs.AI']</td>\n",
              "    </tr>\n",
              "    <tr>\n",
              "      <th>3</th>\n",
              "      <td>Parameter Decoupling Strategy for Semi-supervi...</td>\n",
              "      <td>Consistency training has proven to be an advan...</td>\n",
              "      <td>['cs.CV']</td>\n",
              "    </tr>\n",
              "    <tr>\n",
              "      <th>4</th>\n",
              "      <td>Background-Foreground Segmentation for Interio...</td>\n",
              "      <td>To ensure safety in automated driving, the cor...</td>\n",
              "      <td>['cs.CV', 'cs.LG']</td>\n",
              "    </tr>\n",
              "  </tbody>\n",
              "</table>\n",
              "</div>\n",
              "    <div class=\"colab-df-buttons\">\n",
              "\n",
              "  <div class=\"colab-df-container\">\n",
              "    <button class=\"colab-df-convert\" onclick=\"convertToInteractive('df-86f1e9eb-8be6-42ad-8209-f2d6539c36aa')\"\n",
              "            title=\"Convert this dataframe to an interactive table.\"\n",
              "            style=\"display:none;\">\n",
              "\n",
              "  <svg xmlns=\"http://www.w3.org/2000/svg\" height=\"24px\" viewBox=\"0 -960 960 960\">\n",
              "    <path d=\"M120-120v-720h720v720H120Zm60-500h600v-160H180v160Zm220 220h160v-160H400v160Zm0 220h160v-160H400v160ZM180-400h160v-160H180v160Zm440 0h160v-160H620v160ZM180-180h160v-160H180v160Zm440 0h160v-160H620v160Z\"/>\n",
              "  </svg>\n",
              "    </button>\n",
              "\n",
              "  <style>\n",
              "    .colab-df-container {\n",
              "      display:flex;\n",
              "      gap: 12px;\n",
              "    }\n",
              "\n",
              "    .colab-df-convert {\n",
              "      background-color: #E8F0FE;\n",
              "      border: none;\n",
              "      border-radius: 50%;\n",
              "      cursor: pointer;\n",
              "      display: none;\n",
              "      fill: #1967D2;\n",
              "      height: 32px;\n",
              "      padding: 0 0 0 0;\n",
              "      width: 32px;\n",
              "    }\n",
              "\n",
              "    .colab-df-convert:hover {\n",
              "      background-color: #E2EBFA;\n",
              "      box-shadow: 0px 1px 2px rgba(60, 64, 67, 0.3), 0px 1px 3px 1px rgba(60, 64, 67, 0.15);\n",
              "      fill: #174EA6;\n",
              "    }\n",
              "\n",
              "    .colab-df-buttons div {\n",
              "      margin-bottom: 4px;\n",
              "    }\n",
              "\n",
              "    [theme=dark] .colab-df-convert {\n",
              "      background-color: #3B4455;\n",
              "      fill: #D2E3FC;\n",
              "    }\n",
              "\n",
              "    [theme=dark] .colab-df-convert:hover {\n",
              "      background-color: #434B5C;\n",
              "      box-shadow: 0px 1px 3px 1px rgba(0, 0, 0, 0.15);\n",
              "      filter: drop-shadow(0px 1px 2px rgba(0, 0, 0, 0.3));\n",
              "      fill: #FFFFFF;\n",
              "    }\n",
              "  </style>\n",
              "\n",
              "    <script>\n",
              "      const buttonEl =\n",
              "        document.querySelector('#df-86f1e9eb-8be6-42ad-8209-f2d6539c36aa button.colab-df-convert');\n",
              "      buttonEl.style.display =\n",
              "        google.colab.kernel.accessAllowed ? 'block' : 'none';\n",
              "\n",
              "      async function convertToInteractive(key) {\n",
              "        const element = document.querySelector('#df-86f1e9eb-8be6-42ad-8209-f2d6539c36aa');\n",
              "        const dataTable =\n",
              "          await google.colab.kernel.invokeFunction('convertToInteractive',\n",
              "                                                    [key], {});\n",
              "        if (!dataTable) return;\n",
              "\n",
              "        const docLinkHtml = 'Like what you see? Visit the ' +\n",
              "          '<a target=\"_blank\" href=https://colab.research.google.com/notebooks/data_table.ipynb>data table notebook</a>'\n",
              "          + ' to learn more about interactive tables.';\n",
              "        element.innerHTML = '';\n",
              "        dataTable['output_type'] = 'display_data';\n",
              "        await google.colab.output.renderOutput(dataTable, element);\n",
              "        const docLink = document.createElement('div');\n",
              "        docLink.innerHTML = docLinkHtml;\n",
              "        element.appendChild(docLink);\n",
              "      }\n",
              "    </script>\n",
              "  </div>\n",
              "\n",
              "\n",
              "<div id=\"df-dc699314-e6b8-4f14-ad35-690fdac8124a\">\n",
              "  <button class=\"colab-df-quickchart\" onclick=\"quickchart('df-dc699314-e6b8-4f14-ad35-690fdac8124a')\"\n",
              "            title=\"Suggest charts.\"\n",
              "            style=\"display:none;\">\n",
              "\n",
              "<svg xmlns=\"http://www.w3.org/2000/svg\" height=\"24px\"viewBox=\"0 0 24 24\"\n",
              "     width=\"24px\">\n",
              "    <g>\n",
              "        <path d=\"M19 3H5c-1.1 0-2 .9-2 2v14c0 1.1.9 2 2 2h14c1.1 0 2-.9 2-2V5c0-1.1-.9-2-2-2zM9 17H7v-7h2v7zm4 0h-2V7h2v10zm4 0h-2v-4h2v4z\"/>\n",
              "    </g>\n",
              "</svg>\n",
              "  </button>\n",
              "\n",
              "<style>\n",
              "  .colab-df-quickchart {\n",
              "      --bg-color: #E8F0FE;\n",
              "      --fill-color: #1967D2;\n",
              "      --hover-bg-color: #E2EBFA;\n",
              "      --hover-fill-color: #174EA6;\n",
              "      --disabled-fill-color: #AAA;\n",
              "      --disabled-bg-color: #DDD;\n",
              "  }\n",
              "\n",
              "  [theme=dark] .colab-df-quickchart {\n",
              "      --bg-color: #3B4455;\n",
              "      --fill-color: #D2E3FC;\n",
              "      --hover-bg-color: #434B5C;\n",
              "      --hover-fill-color: #FFFFFF;\n",
              "      --disabled-bg-color: #3B4455;\n",
              "      --disabled-fill-color: #666;\n",
              "  }\n",
              "\n",
              "  .colab-df-quickchart {\n",
              "    background-color: var(--bg-color);\n",
              "    border: none;\n",
              "    border-radius: 50%;\n",
              "    cursor: pointer;\n",
              "    display: none;\n",
              "    fill: var(--fill-color);\n",
              "    height: 32px;\n",
              "    padding: 0;\n",
              "    width: 32px;\n",
              "  }\n",
              "\n",
              "  .colab-df-quickchart:hover {\n",
              "    background-color: var(--hover-bg-color);\n",
              "    box-shadow: 0 1px 2px rgba(60, 64, 67, 0.3), 0 1px 3px 1px rgba(60, 64, 67, 0.15);\n",
              "    fill: var(--button-hover-fill-color);\n",
              "  }\n",
              "\n",
              "  .colab-df-quickchart-complete:disabled,\n",
              "  .colab-df-quickchart-complete:disabled:hover {\n",
              "    background-color: var(--disabled-bg-color);\n",
              "    fill: var(--disabled-fill-color);\n",
              "    box-shadow: none;\n",
              "  }\n",
              "\n",
              "  .colab-df-spinner {\n",
              "    border: 2px solid var(--fill-color);\n",
              "    border-color: transparent;\n",
              "    border-bottom-color: var(--fill-color);\n",
              "    animation:\n",
              "      spin 1s steps(1) infinite;\n",
              "  }\n",
              "\n",
              "  @keyframes spin {\n",
              "    0% {\n",
              "      border-color: transparent;\n",
              "      border-bottom-color: var(--fill-color);\n",
              "      border-left-color: var(--fill-color);\n",
              "    }\n",
              "    20% {\n",
              "      border-color: transparent;\n",
              "      border-left-color: var(--fill-color);\n",
              "      border-top-color: var(--fill-color);\n",
              "    }\n",
              "    30% {\n",
              "      border-color: transparent;\n",
              "      border-left-color: var(--fill-color);\n",
              "      border-top-color: var(--fill-color);\n",
              "      border-right-color: var(--fill-color);\n",
              "    }\n",
              "    40% {\n",
              "      border-color: transparent;\n",
              "      border-right-color: var(--fill-color);\n",
              "      border-top-color: var(--fill-color);\n",
              "    }\n",
              "    60% {\n",
              "      border-color: transparent;\n",
              "      border-right-color: var(--fill-color);\n",
              "    }\n",
              "    80% {\n",
              "      border-color: transparent;\n",
              "      border-right-color: var(--fill-color);\n",
              "      border-bottom-color: var(--fill-color);\n",
              "    }\n",
              "    90% {\n",
              "      border-color: transparent;\n",
              "      border-bottom-color: var(--fill-color);\n",
              "    }\n",
              "  }\n",
              "</style>\n",
              "\n",
              "  <script>\n",
              "    async function quickchart(key) {\n",
              "      const quickchartButtonEl =\n",
              "        document.querySelector('#' + key + ' button');\n",
              "      quickchartButtonEl.disabled = true;  // To prevent multiple clicks.\n",
              "      quickchartButtonEl.classList.add('colab-df-spinner');\n",
              "      try {\n",
              "        const charts = await google.colab.kernel.invokeFunction(\n",
              "            'suggestCharts', [key], {});\n",
              "      } catch (error) {\n",
              "        console.error('Error during call to suggestCharts:', error);\n",
              "      }\n",
              "      quickchartButtonEl.classList.remove('colab-df-spinner');\n",
              "      quickchartButtonEl.classList.add('colab-df-quickchart-complete');\n",
              "    }\n",
              "    (() => {\n",
              "      let quickchartButtonEl =\n",
              "        document.querySelector('#df-dc699314-e6b8-4f14-ad35-690fdac8124a button');\n",
              "      quickchartButtonEl.style.display =\n",
              "        google.colab.kernel.accessAllowed ? 'block' : 'none';\n",
              "    })();\n",
              "  </script>\n",
              "</div>\n",
              "    </div>\n",
              "  </div>\n"
            ]
          },
          "metadata": {},
          "execution_count": 2
        }
      ]
    },
    {
      "cell_type": "code",
      "source": [
        "print(f\"There are {len(arxiv_data)} rows in the dataset.\")"
      ],
      "metadata": {
        "colab": {
          "base_uri": "https://localhost:8080/"
        },
        "id": "sLo1lKS-4Dpb",
        "outputId": "2c05fc78-b846-4322-805b-4b34acd7f38b"
      },
      "execution_count": 3,
      "outputs": [
        {
          "output_type": "stream",
          "name": "stdout",
          "text": [
            "There are 51774 rows in the dataset.\n"
          ]
        }
      ]
    },
    {
      "cell_type": "code",
      "source": [
        "total_duplicate_titles = sum(arxiv_data[\"titles\"].duplicated())\n",
        "print(f\"There are {total_duplicate_titles} duplicate titles.\")"
      ],
      "metadata": {
        "colab": {
          "base_uri": "https://localhost:8080/"
        },
        "id": "DhtE4LCK4KeU",
        "outputId": "9b26cb78-2dea-47a6-d797-2d7a4c934dca"
      },
      "execution_count": 4,
      "outputs": [
        {
          "output_type": "stream",
          "name": "stdout",
          "text": [
            "There are 12802 duplicate titles.\n"
          ]
        }
      ]
    },
    {
      "cell_type": "code",
      "source": [
        "arxiv_data = arxiv_data[~arxiv_data[\"titles\"].duplicated()]\n",
        "print(f\"There are {len(arxiv_data)} rows in the deduplicated dataset.\")\n",
        "\n",
        "# There are some terms with occurrence as low as 1.\n",
        "print(sum(arxiv_data[\"terms\"].value_counts() == 1))\n",
        "\n",
        "# How many unique terms?\n",
        "print(arxiv_data[\"terms\"].nunique())"
      ],
      "metadata": {
        "colab": {
          "base_uri": "https://localhost:8080/"
        },
        "id": "7psFDjus4btf",
        "outputId": "06dc4937-739a-425c-8772-5b3ebb3e8a1b"
      },
      "execution_count": 5,
      "outputs": [
        {
          "output_type": "stream",
          "name": "stdout",
          "text": [
            "There are 38972 rows in the deduplicated dataset.\n",
            "2321\n",
            "3157\n"
          ]
        }
      ]
    },
    {
      "cell_type": "code",
      "source": [
        "arxiv_data_filtered=arxiv_data.groupby(\"terms\").filter(lambda x: len(x)>1)\n",
        "arxiv_data_filtered.shape"
      ],
      "metadata": {
        "colab": {
          "base_uri": "https://localhost:8080/"
        },
        "id": "umeU58qA4_WC",
        "outputId": "a5d35d75-f6fc-4cf7-ce11-f710755e6547"
      },
      "execution_count": 7,
      "outputs": [
        {
          "output_type": "execute_result",
          "data": {
            "text/plain": [
              "(36651, 3)"
            ]
          },
          "metadata": {},
          "execution_count": 7
        }
      ]
    },
    {
      "cell_type": "markdown",
      "source": [
        "# Convert the string labels to lists of strings"
      ],
      "metadata": {
        "id": "4OOwl_LwPU-P"
      }
    },
    {
      "cell_type": "code",
      "source": [
        "arxiv_data_filtered[\"terms\"]=arxiv_data_filtered[\"terms\"].apply(lambda x :literal_eval(x))\n",
        "\n",
        "arxiv_data_filtered[\"terms\"].values[:5]"
      ],
      "metadata": {
        "colab": {
          "base_uri": "https://localhost:8080/"
        },
        "id": "naupgeflPOae",
        "outputId": "b1914a22-66f8-4997-aee5-472b9d63f414"
      },
      "execution_count": 8,
      "outputs": [
        {
          "output_type": "execute_result",
          "data": {
            "text/plain": [
              "array([list(['cs.CV', 'cs.LG']), list(['cs.CV', 'cs.AI', 'cs.LG']),\n",
              "       list(['cs.CV', 'cs.AI']), list(['cs.CV']),\n",
              "       list(['cs.CV', 'cs.LG'])], dtype=object)"
            ]
          },
          "metadata": {},
          "execution_count": 8
        }
      ]
    },
    {
      "cell_type": "code",
      "source": [
        "test_split=0.1\n",
        "\n",
        "train_df,test_df=train_test_split(\n",
        "    arxiv_data_filtered,test_size=test_split,\n",
        "    stratify=arxiv_data_filtered[\"terms\"].values,\n",
        ")\n",
        "\n",
        "val_df=test_df.sample(frac=0.5)\n",
        "test_df.drop(val_df.index,inplace=True)\n",
        "\n",
        "print(f\"Number of rows in training set: {len(train_df)}\")\n",
        "print(f\"Number of rows in validation set: {len(val_df)}\")\n",
        "print(f\"Number of rows in test set: {len(test_df)}\")"
      ],
      "metadata": {
        "colab": {
          "base_uri": "https://localhost:8080/"
        },
        "id": "XGAVtxIePtCt",
        "outputId": "4479adbf-16a0-4370-81cf-7b9c4b34d013"
      },
      "execution_count": 9,
      "outputs": [
        {
          "output_type": "stream",
          "name": "stdout",
          "text": [
            "Number of rows in training set: 32985\n",
            "Number of rows in validation set: 1833\n",
            "Number of rows in test set: 1833\n"
          ]
        }
      ]
    },
    {
      "cell_type": "markdown",
      "source": [
        "Multi-label binarization"
      ],
      "metadata": {
        "id": "UO9yeAXQQxhj"
      }
    },
    {
      "cell_type": "code",
      "source": [
        "train_df[\"summaries\"].apply(lambda x: len(x.split(\" \"))).describe()"
      ],
      "metadata": {
        "colab": {
          "base_uri": "https://localhost:8080/"
        },
        "id": "Wy0C9rTbQuCy",
        "outputId": "bdb5be38-3e21-413f-f66d-88c4ec507e21"
      },
      "execution_count": 11,
      "outputs": [
        {
          "output_type": "execute_result",
          "data": {
            "text/plain": [
              "count    32985.000000\n",
              "mean       156.444778\n",
              "std         41.469624\n",
              "min          5.000000\n",
              "25%        128.000000\n",
              "50%        154.000000\n",
              "75%        183.000000\n",
              "max        297.000000\n",
              "Name: summaries, dtype: float64"
            ]
          },
          "metadata": {},
          "execution_count": 11
        }
      ]
    },
    {
      "cell_type": "markdown",
      "source": [
        "Notice that 50% of the abstracts have a length of 154 (you may get a different number based on the split). So, any number close to that value is a good enough approximate for the maximum sequence length.\n",
        "\n",
        "Now, we implement utilities to prepare our datasets."
      ],
      "metadata": {
        "id": "JJopEvIdRS6D"
      }
    },
    {
      "cell_type": "code",
      "source": [
        "terms = tf.ragged.constant(train_df[\"terms\"].values)\n",
        "lookup = tf.keras.layers.StringLookup(output_mode=\"multi_hot\")\n",
        "lookup.adapt(terms)\n",
        "vocab = lookup.get_vocabulary()\n",
        "\n",
        "\n",
        "def invert_multi_hot(encoded_labels):\n",
        "    \"\"\"Reverse a single multi-hot encoded label to a tuple of vocab terms.\"\"\"\n",
        "    hot_indices = np.argwhere(encoded_labels == 1.0)[..., 0]\n",
        "    return np.take(vocab, hot_indices)\n",
        "\n",
        "\n",
        "print(\"Vocabulary:\\n\")\n",
        "print(vocab)\n"
      ],
      "metadata": {
        "colab": {
          "base_uri": "https://localhost:8080/"
        },
        "id": "hCYti57EUOPr",
        "outputId": "645a1cdf-653f-4770-f07e-89ebc9815a31"
      },
      "execution_count": 16,
      "outputs": [
        {
          "output_type": "stream",
          "name": "stdout",
          "text": [
            "Vocabulary:\n",
            "\n",
            "['[UNK]', 'cs.CV', 'cs.LG', 'stat.ML', 'cs.AI', 'eess.IV', 'cs.RO', 'cs.CL', 'cs.NE', 'cs.CR', 'math.OC', 'eess.SP', 'cs.GR', 'cs.SI', 'cs.MM', 'cs.SY', 'cs.IR', 'cs.MA', 'eess.SY', 'cs.HC', 'math.IT', 'cs.IT', 'cs.DC', 'cs.CY', 'stat.AP', 'stat.TH', 'math.ST', 'stat.ME', 'eess.AS', 'cs.SD', 'q-bio.QM', 'q-bio.NC', 'cs.DS', 'cs.GT', 'cs.CG', 'cs.NI', 'cs.SE', 'I.2.6', 'stat.CO', 'math.NA', 'cs.NA', 'physics.chem-ph', 'cs.DB', 'q-bio.BM', 'cs.LO', 'cond-mat.dis-nn', '68T45', 'math.PR', 'cs.PL', 'physics.comp-ph', 'cs.CE', 'cs.AR', 'I.2.10', 'q-fin.ST', 'cond-mat.stat-mech', '68T05', 'quant-ph', 'math.DS', 'cs.CC', 'I.4.6', 'physics.soc-ph', 'physics.data-an', 'physics.ao-ph', 'cs.DM', 'q-bio.GN', 'econ.EM', 'physics.med-ph', 'cs.PF', 'astro-ph.IM', 'I.4.8', 'math.AT', 'I.4', 'q-fin.TR', 'cs.FL', 'I.5.4', 'I.2', '68U10', 'hep-ex', 'cond-mat.mtrl-sci', '68T10', 'physics.optics', 'physics.geo-ph', 'q-fin.CP', 'physics.flu-dyn', 'math.AP', 'I.4; I.5', 'I.4.9', 'I.2.6; I.2.8', '68T01', '65D19', 'nlin.CD', 'math.CO', 'cs.MS', 'I.2.6; I.5.1', 'I.2.10; I.4; I.5', 'I.2.0; I.2.6', '68T07', 'cs.SC', 'cs.ET', 'K.3.2', 'I.2.8', 'I.2.10; I.4.8', '68U01', '68T30', 'q-fin.GN', 'q-fin.EC', 'q-bio.MN', 'econ.GN', 'I.4.9; I.5.4', 'I.4.5', 'I.2; I.5', 'I.2; I.4; I.5', 'I.2.6; I.2.7', '68T99', '68Q32', '68', '62H30', 'q-fin.RM', 'q-fin.PM', 'q-bio.TO', 'q-bio.OT', 'physics.bio-ph', 'nlin.AO', 'math.LO', 'math.FA', 'hep-ph', 'cond-mat.soft', 'I.4.6; I.4.8', 'I.4.4', 'I.4.3', 'I.4.0', 'I.2; J.2', 'I.2; I.2.6; I.2.7', 'I.2.7', 'I.2.6; I.5.4', 'I.2.6; I.2.9', 'I.2.6; I.2.7; H.3.1; H.3.3', 'I.2.6; I.2.10', 'I.2.6, I.5.4', 'I.2.1; J.3', 'I.2.10; I.5.1; I.4.8', 'I.2.10; I.4.8; I.5.4', 'I.2.10; I.2.6', 'I.2.1', 'H.3.1; I.2.6; I.2.7', 'H.3.1; H.3.3; I.2.6; I.2.7', 'G.3', 'F.2.2; I.2.7', 'E.5; E.4; E.2; H.1.1; F.1.1; F.1.3', '68Txx', '62H99', '62H35', '14J60 (Primary) 14F05, 14J26 (Secondary)']\n"
          ]
        }
      ]
    },
    {
      "cell_type": "code",
      "source": [
        "max_seqlen = 150\n",
        "batch_size = 128\n",
        "padding_token = \"<pad>\"\n",
        "auto = tf.data.AUTOTUNE\n",
        "\n",
        "\n",
        "def make_dataset(dataframe, is_train=True):\n",
        "    labels = tf.ragged.constant(dataframe[\"terms\"].values)\n",
        "    label_binarized = lookup(labels).numpy()\n",
        "    dataset = tf.data.Dataset.from_tensor_slices(\n",
        "        (dataframe[\"summaries\"].values, label_binarized)\n",
        "    )\n",
        "    dataset = dataset.shuffle(batch_size * 10) if is_train else dataset\n",
        "    return dataset.batch(batch_size)\n"
      ],
      "metadata": {
        "id": "ELidvAQyRG3Z"
      },
      "execution_count": 17,
      "outputs": []
    },
    {
      "cell_type": "code",
      "source": [
        "train_dataset=make_dataset(train_df,is_train=True)\n",
        "validation_dataset=make_dataset(val_df,is_train=False)\n",
        "test_dataset=make_dataset(test_df,is_train=False)"
      ],
      "metadata": {
        "id": "fInqf-kZSwN-"
      },
      "execution_count": 18,
      "outputs": []
    },
    {
      "cell_type": "code",
      "source": [
        "text_batch, label_batch = next(iter(train_dataset))\n",
        "\n",
        "for i, text in enumerate(text_batch[:5]):\n",
        "    label = label_batch[i].numpy()[None, ...]\n",
        "    print(f\"Abstract: {text}\")\n",
        "    print(f\"Label(s): {invert_multi_hot(label[0])}\")\n",
        "    print(\" \")"
      ],
      "metadata": {
        "colab": {
          "base_uri": "https://localhost:8080/"
        },
        "id": "b62-8lybTIH3",
        "outputId": "652e5870-bd6f-4cd2-841f-6ea545d1c6e5"
      },
      "execution_count": 19,
      "outputs": [
        {
          "output_type": "stream",
          "name": "stdout",
          "text": [
            "Abstract: b'It is widely known that very small datasets produce overfitting in Deep\\nNeural Networks (DNNs), i.e., the network becomes highly biased to the data it\\nhas been trained on. This issue is often alleviated using transfer learning,\\nregularization techniques and/or data augmentation. This work presents a new\\napproach, independent but complementary to the previous mentioned techniques,\\nfor improving the generalization of DNNs on very small datasets in which the\\ninvolved classes share many visual features. The proposed methodology, called\\nFuCiTNet (Fusion Class inherent Transformations Network), inspired by GANs,\\ncreates as many generators as classes in the problem. Each generator, $k$,\\nlearns the transformations that bring the input image into the k-class domain.\\nWe introduce a classification loss in the generators to drive the leaning of\\nspecific k-class transformations. Our experiments demonstrate that the proposed\\ntransformations improve the generalization of the classification model in three\\ndiverse datasets.'\n",
            "Label(s): ['cs.CV']\n",
            " \n",
            "Abstract: b'Learning rich representation from data is an important task for deep\\ngenerative models such as variational auto-encoder (VAE). However, by\\nextracting high-level abstractions in the bottom-up inference process, the goal\\nof preserving all factors of variations for top-down generation is compromised.\\nMotivated by the concept of \"starting small\", we present a strategy to\\nprogressively learn independent hierarchical representations from high- to\\nlow-levels of abstractions. The model starts with learning the most abstract\\nrepresentation, and then progressively grow the network architecture to\\nintroduce new representations at different levels of abstraction. We\\nquantitatively demonstrate the ability of the presented model to improve\\ndisentanglement in comparison to existing works on two benchmark data sets\\nusing three disentanglement metrics, including a new metric we proposed to\\ncomplement the previously-presented metric of mutual information gap. We\\nfurther present both qualitative and quantitative evidence on how the\\nprogression of learning improves disentangling of hierarchical representations.\\nBy drawing on the respective advantage of hierarchical representation learning\\nand progressive learning, this is to our knowledge the first attempt to improve\\ndisentanglement by progressively growing the capacity of VAE to learn\\nhierarchical representations.'\n",
            "Label(s): ['cs.CV' 'cs.LG' 'stat.ML']\n",
            " \n",
            "Abstract: b\"It is well established that temporal organization is critical to memory, and\\nthat the ability to temporally organize information is fundamental to many\\nperceptual, cognitive, and motor processes. While our understanding of how the\\nbrain processes the spatial context of memories has advanced considerably, our\\nunderstanding of their temporal organization lags far behind. In this paper, we\\npropose a new approach for elucidating the neural basis of complex behaviors\\nand temporal organization of memories. More specifically, we focus on neural\\ndecoding - the prediction of behavioral or experimental conditions based on\\nobserved neural data. In general, this is a challenging classification problem,\\nwhich is of immense interest in neuroscience. Our goal is to develop a new\\nframework that not only improves the overall accuracy of decoding, but also\\nprovides a clear latent representation of the decoding process. To accomplish\\nthis, our approach uses a Variational Auto-encoder (VAE) model with a\\ndiversity-encouraging prior based on determinantal point processes (DPP) to\\nimprove latent representation learning by avoiding redundancy in the latent\\nspace. We apply our method to data collected from a novel rat experiment that\\ninvolves presenting repeated sequences of odors at a single port and testing\\nthe rats' ability to identify each odor. We show that our method leads to\\nsubstantially higher accuracy rate for neural decoding and allows to discover\\nnovel biological phenomena by providing a clear latent representation of the\\ndecoding process.\"\n",
            "Label(s): ['cs.LG' 'stat.ML']\n",
            " \n",
            "Abstract: b'This work introduces World-GAN, the first method to perform data-driven\\nProcedural Content Generation via Machine Learning in Minecraft from a single\\nexample. Based on a 3D Generative Adversarial Network (GAN) architecture, we\\nare able to create arbitrarily sized world snippets from a given sample. We\\nevaluate our approach on creations from the community as well as structures\\ngenerated with the Minecraft World Generator. Our method is motivated by the\\ndense representations used in Natural Language Processing (NLP) introduced with\\nword2vec [1]. The proposed block2vec representations make World-GAN independent\\nfrom the number of different blocks, which can vary a lot in Minecraft, and\\nenable the generation of larger levels. Finally, we demonstrate that changing\\nthis new representation space allows us to change the generated style of an\\nalready trained generator. World-GAN enables its users to generate Minecraft\\nworlds based on parts of their creations.'\n",
            "Label(s): ['cs.CV' 'cs.LG' 'cs.NE']\n",
            " \n",
            "Abstract: b'An important component for generalization in machine learning is to uncover\\nunderlying latent factors of variation as well as the mechanism through which\\neach factor acts in the world. In this paper, we test whether 17 unsupervised,\\nweakly supervised, and fully supervised representation learning approaches\\ncorrectly infer the generative factors of variation in simple datasets\\n(dSprites, Shapes3D, MPI3D). In contrast to prior robustness work that\\nintroduces novel factors of variation during test time, such as blur or other\\n(un)structured noise, we here recompose, interpolate, or extrapolate only\\nexisting factors of variation from the training data set (e.g., small and\\nmedium-sized objects during training and large objects during testing). Models\\nthat learn the correct mechanism should be able to generalize to this\\nbenchmark. In total, we train and test 2000+ models and observe that all of\\nthem struggle to learn the underlying mechanism regardless of supervision\\nsignal and architectural bias. Moreover, the generalization capabilities of all\\ntested models drop significantly as we move from artificial datasets towards\\nmore realistic real-world datasets. Despite their inability to identify the\\ncorrect mechanism, the models are quite modular as their ability to infer other\\nin-distribution factors remains fairly stable, providing only a single factor\\nis out-of-distribution. These results point to an important yet understudied\\nproblem of learning mechanistic models of observations that can facilitate\\ngeneralization.'\n",
            "Label(s): ['cs.CV' 'cs.LG']\n",
            " \n"
          ]
        }
      ]
    },
    {
      "cell_type": "markdown",
      "source": [
        "## Vectorization"
      ],
      "metadata": {
        "id": "fJbpKfUqUgN0"
      }
    },
    {
      "cell_type": "code",
      "source": [
        "# Source: https://stackoverflow.com/a/18937309/7636462\n",
        "vocabulary = set()\n",
        "train_df[\"summaries\"].str.lower().str.split().apply(vocabulary.update)\n",
        "vocabulary_size = len(vocabulary)\n",
        "print(vocabulary_size)\n"
      ],
      "metadata": {
        "colab": {
          "base_uri": "https://localhost:8080/"
        },
        "id": "XntCB765UXLC",
        "outputId": "4fbee18a-75d6-40fb-8be9-e0132e24a5e9"
      },
      "execution_count": 20,
      "outputs": [
        {
          "output_type": "stream",
          "name": "stdout",
          "text": [
            "153461\n"
          ]
        }
      ]
    },
    {
      "cell_type": "code",
      "source": [
        "text_vectorizer = layers.TextVectorization(\n",
        "    max_tokens=vocabulary_size, ngrams=2, output_mode=\"tf_idf\"\n",
        ")\n",
        "\n",
        "# `TextVectorization` layer needs to be adapted as per the vocabulary from our\n",
        "# training set.\n",
        "with tf.device(\"/CPU:0\"):\n",
        "    text_vectorizer.adapt(train_dataset.map(lambda text, label: text))\n",
        "\n",
        "train_dataset = train_dataset.map(\n",
        "    lambda text, label: (text_vectorizer(text), label), num_parallel_calls=auto\n",
        ").prefetch(auto)\n",
        "validation_dataset = validation_dataset.map(\n",
        "    lambda text, label: (text_vectorizer(text), label), num_parallel_calls=auto\n",
        ").prefetch(auto)\n",
        "test_dataset = test_dataset.map(\n",
        "    lambda text, label: (text_vectorizer(text), label), num_parallel_calls=auto\n",
        ").prefetch(auto)\n"
      ],
      "metadata": {
        "id": "3Ty7njfSUj43"
      },
      "execution_count": 21,
      "outputs": []
    },
    {
      "cell_type": "markdown",
      "source": [
        "## Create a text classification model"
      ],
      "metadata": {
        "id": "v3fSAvpoU5i1"
      }
    },
    {
      "cell_type": "code",
      "source": [
        "def make_model():\n",
        "    shallow_mlp_model = keras.Sequential(\n",
        "        [\n",
        "            layers.Dense(512, activation=\"relu\"),\n",
        "            layers.Dense(256, activation=\"relu\"),\n",
        "            layers.Dense(lookup.vocabulary_size(), activation=\"sigmoid\"),\n",
        "        ]  # More on why \"sigmoid\" has been used here in a moment.\n",
        "    )\n",
        "    return shallow_mlp_model\n"
      ],
      "metadata": {
        "id": "WAIZzxWFUpdP"
      },
      "execution_count": 22,
      "outputs": []
    },
    {
      "cell_type": "code",
      "source": [
        "epochs = 20\n",
        "\n",
        "shallow_mlp_model = make_model()\n",
        "shallow_mlp_model.compile(\n",
        "    loss=\"binary_crossentropy\", optimizer=\"adam\", metrics=[\"binary_accuracy\"]\n",
        ")\n",
        "\n",
        "history = shallow_mlp_model.fit(\n",
        "    train_dataset, validation_data=validation_dataset, epochs=epochs\n",
        ")\n",
        "\n",
        "\n",
        "def plot_result(item):\n",
        "    plt.plot(history.history[item], label=item)\n",
        "    plt.plot(history.history[\"val_\" + item], label=\"val_\" + item)\n",
        "    plt.xlabel(\"Epochs\")\n",
        "    plt.ylabel(item)\n",
        "    plt.title(\"Train and Validation {} Over Epochs\".format(item), fontsize=14)\n",
        "    plt.legend()\n",
        "    plt.grid()\n",
        "    plt.show()\n",
        "\n",
        "\n",
        "plot_result(\"loss\")\n",
        "plot_result(\"binary_accuracy\")"
      ],
      "metadata": {
        "colab": {
          "base_uri": "https://localhost:8080/",
          "height": 1000
        },
        "id": "A8c8nRBwU3w5",
        "outputId": "86cb0208-ec1b-491a-b2f2-1b9271e7a39f"
      },
      "execution_count": 23,
      "outputs": [
        {
          "output_type": "stream",
          "name": "stdout",
          "text": [
            "Epoch 1/20\n",
            "258/258 [==============================] - 30s 90ms/step - loss: 0.0337 - binary_accuracy: 0.9885 - val_loss: 0.0191 - val_binary_accuracy: 0.9942\n",
            "Epoch 2/20\n",
            "258/258 [==============================] - 20s 77ms/step - loss: 0.0033 - binary_accuracy: 0.9991 - val_loss: 0.0266 - val_binary_accuracy: 0.9938\n",
            "Epoch 3/20\n",
            "258/258 [==============================] - 19s 75ms/step - loss: 7.9911e-04 - binary_accuracy: 0.9998 - val_loss: 0.0326 - val_binary_accuracy: 0.9937\n",
            "Epoch 4/20\n",
            "258/258 [==============================] - 24s 95ms/step - loss: 3.3879e-04 - binary_accuracy: 1.0000 - val_loss: 0.0381 - val_binary_accuracy: 0.9938\n",
            "Epoch 5/20\n",
            "258/258 [==============================] - 20s 79ms/step - loss: 1.6719e-04 - binary_accuracy: 1.0000 - val_loss: 0.0419 - val_binary_accuracy: 0.9939\n",
            "Epoch 6/20\n",
            "258/258 [==============================] - 21s 81ms/step - loss: 1.2577e-04 - binary_accuracy: 1.0000 - val_loss: 0.0426 - val_binary_accuracy: 0.9938\n",
            "Epoch 7/20\n",
            "258/258 [==============================] - 21s 81ms/step - loss: 8.0990e-05 - binary_accuracy: 1.0000 - val_loss: 0.0442 - val_binary_accuracy: 0.9938\n",
            "Epoch 8/20\n",
            "258/258 [==============================] - 20s 78ms/step - loss: 7.4670e-05 - binary_accuracy: 1.0000 - val_loss: 0.0462 - val_binary_accuracy: 0.9938\n",
            "Epoch 9/20\n",
            "258/258 [==============================] - 21s 82ms/step - loss: 6.0210e-05 - binary_accuracy: 1.0000 - val_loss: 0.0449 - val_binary_accuracy: 0.9939\n",
            "Epoch 10/20\n",
            "258/258 [==============================] - 20s 78ms/step - loss: 5.3932e-05 - binary_accuracy: 1.0000 - val_loss: 0.0483 - val_binary_accuracy: 0.9938\n",
            "Epoch 11/20\n",
            "258/258 [==============================] - 20s 76ms/step - loss: 5.3621e-05 - binary_accuracy: 1.0000 - val_loss: 0.0469 - val_binary_accuracy: 0.9939\n",
            "Epoch 12/20\n",
            "258/258 [==============================] - 19s 74ms/step - loss: 4.0425e-05 - binary_accuracy: 1.0000 - val_loss: 0.0488 - val_binary_accuracy: 0.9939\n",
            "Epoch 13/20\n",
            "258/258 [==============================] - 20s 78ms/step - loss: 3.4641e-05 - binary_accuracy: 1.0000 - val_loss: 0.0518 - val_binary_accuracy: 0.9938\n",
            "Epoch 14/20\n",
            "258/258 [==============================] - 20s 76ms/step - loss: 3.1375e-05 - binary_accuracy: 1.0000 - val_loss: 0.0507 - val_binary_accuracy: 0.9939\n",
            "Epoch 15/20\n",
            "258/258 [==============================] - 20s 78ms/step - loss: 2.5611e-05 - binary_accuracy: 1.0000 - val_loss: 0.0521 - val_binary_accuracy: 0.9937\n",
            "Epoch 16/20\n",
            "258/258 [==============================] - 20s 76ms/step - loss: 3.1038e-05 - binary_accuracy: 1.0000 - val_loss: 0.0525 - val_binary_accuracy: 0.9939\n",
            "Epoch 17/20\n",
            "258/258 [==============================] - 20s 76ms/step - loss: 5.2417e-05 - binary_accuracy: 1.0000 - val_loss: 0.0445 - val_binary_accuracy: 0.9938\n",
            "Epoch 18/20\n",
            "258/258 [==============================] - 20s 77ms/step - loss: 0.0011 - binary_accuracy: 0.9997 - val_loss: 0.0393 - val_binary_accuracy: 0.9931\n",
            "Epoch 19/20\n",
            "258/258 [==============================] - 20s 75ms/step - loss: 0.0029 - binary_accuracy: 0.9991 - val_loss: 0.0392 - val_binary_accuracy: 0.9931\n",
            "Epoch 20/20\n",
            "258/258 [==============================] - 20s 77ms/step - loss: 0.0020 - binary_accuracy: 0.9994 - val_loss: 0.0458 - val_binary_accuracy: 0.9930\n"
          ]
        },
        {
          "output_type": "display_data",
          "data": {
            "text/plain": [
              "<Figure size 640x480 with 1 Axes>"
            ],
            "image/png": "[encoded data removed]"
          },
          "metadata": {}
        },
        {
          "output_type": "display_data",
          "data": {
            "text/plain": [
              "<Figure size 640x480 with 1 Axes>"
            ],
            "image/png": "[encoded data removed]"
          },
          "metadata": {}
        }
      ]
    },
    {
      "cell_type": "code",
      "source": [
        "_, binary_acc = shallow_mlp_model.evaluate(test_dataset)\n",
        "print(f\"Categorical accuracy on the test set: {round(binary_acc * 100, 2)}%.\")"
      ],
      "metadata": {
        "colab": {
          "base_uri": "https://localhost:8080/"
        },
        "id": "qew4LO1LU-D2",
        "outputId": "499343a7-36a9-4900-b8e0-65be09279326"
      },
      "execution_count": 24,
      "outputs": [
        {
          "output_type": "stream",
          "name": "stdout",
          "text": [
            "15/15 [==============================] - 1s 55ms/step - loss: 0.0457 - binary_accuracy: 0.9930\n",
            "Categorical accuracy on the test set: 99.3%.\n"
          ]
        }
      ]
    },
    {
      "cell_type": "code",
      "source": [
        "# Create a model for inference.\n",
        "model_for_inference = keras.Sequential([text_vectorizer, shallow_mlp_model])\n",
        "\n",
        "# Create a small dataset just for demoing inference.\n",
        "inference_dataset = make_dataset(test_df.sample(100), is_train=False)\n",
        "text_batch, label_batch = next(iter(inference_dataset))\n",
        "predicted_probabilities = model_for_inference.predict(text_batch)\n",
        "\n",
        "# Perform inference.\n",
        "for i, text in enumerate(text_batch[:5]):\n",
        "    label = label_batch[i].numpy()[None, ...]\n",
        "    print(f\"Abstract: {text}\")\n",
        "    print(f\"Label(s): {invert_multi_hot(label[0])}\")\n",
        "    predicted_proba = [proba for proba in predicted_probabilities[i]]\n",
        "    top_3_labels = [\n",
        "        x\n",
        "        for _, x in sorted(\n",
        "            zip(predicted_probabilities[i], lookup.get_vocabulary()),\n",
        "            key=lambda pair: pair[0],\n",
        "            reverse=True,\n",
        "        )\n",
        "    ][:3]\n",
        "    print(f\"Predicted Label(s): ({', '.join([label for label in top_3_labels])})\")\n",
        "    print(\" \")"
      ],
      "metadata": {
        "colab": {
          "base_uri": "https://localhost:8080/"
        },
        "id": "D6DprqWgVAgY",
        "outputId": "485bedf2-5c27-4bc0-8000-1c8bab22b9fb"
      },
      "execution_count": 25,
      "outputs": [
        {
          "output_type": "stream",
          "name": "stdout",
          "text": [
            "4/4 [==============================] - 0s 8ms/step\n",
            "Abstract: b'When creating digital art, coloring and shading are often time consuming\\ntasks that follow the same general patterns. A solution to automatically\\ncolorize raw line art would have many practical applications. We propose a\\nsetup utilizing two networks in tandem: a color prediction network based only\\non outlines, and a shading network conditioned on both outlines and a color\\nscheme. We present processing methods to limit information passed in the color\\nscheme, improving generalization. Finally, we demonstrate natural-looking\\nresults when colorizing outlines from scratch, as well as from a messy,\\nuser-defined color scheme.'\n",
            "Label(s): ['cs.CV']\n",
            "Predicted Label(s): (cs.CV, stat.ML, cs.LG)\n",
            " \n",
            "Abstract: b'Fingerprint classification is an effective technique for reducing the\\ncandidate numbers of fingerprints in the stage of matching in automatic\\nfingerprint identification system (AFIS). In recent years, deep learning is an\\nemerging technology which has achieved great success in many fields, such as\\nimage processing, natural language processing and so on. In this paper, we only\\nchoose the orientation field as the input feature and adopt a new method\\n(stacked sparse autoencoders) based on depth neural network for fingerprint\\nclassification. For the four-class problem, we achieve a classification of 93.1\\npercent using the depth network structure which has three hidden layers (with\\n1.8% rejection) in the NIST-DB4 database. And then we propose a novel method\\nusing two classification probabilities for fuzzy classification which can\\neffectively enhance the accuracy of classification. By only adjusting the\\nprobability threshold, we get the accuracy of classification is 96.1% (setting\\nthreshold is 0.85), 97.2% (setting threshold is 0.90) and 98.0% (setting\\nthreshold is 0.95). Using the fuzzy method, we obtain higher accuracy than\\nother methods.'\n",
            "Label(s): ['cs.CV']\n",
            "Predicted Label(s): (cs.CV, eess.IV, stat.ML)\n",
            " \n",
            "Abstract: b'Convolutional Neural Networks (CNN) have been applied to age-related research\\nas the core framework. Although faces are composed of numerous facial\\nattributes, most works with CNNs still consider a face as a typical object and\\ndo not pay enough attention to facial regions that carry age-specific feature\\nfor this particular task. In this paper, we propose a novel CNN architecture\\ncalled Fusion Network (FusionNet) to tackle the age estimation problem. Apart\\nfrom the whole face image, the FusionNet successively takes several\\nage-specific facial patches as part of the input to emphasize the age-specific\\nfeatures. Through experiments, we show that the FusionNet significantly\\noutperforms other state-of-the-art models on the MORPH II benchmark.'\n",
            "Label(s): ['cs.CV']\n",
            "Predicted Label(s): (cs.CV, eess.IV, cs.AI)\n",
            " \n",
            "Abstract: b'Dual-energy (DE) chest radiographs provide greater diagnostic information\\nthan standard radiographs by separating the image into bone and soft tissue,\\nrevealing suspicious lesions which may otherwise be obstructed from view.\\nHowever, acquisition of DE images requires two physical scans, necessitating\\nspecialized hardware and processing, and images are prone to motion artifact.\\nGeneration of virtual DE images from standard, single-shot chest radiographs\\nwould expand the diagnostic value of standard radiographs without changing the\\nacquisition procedure. We present a Multi-scale Conditional Adversarial Network\\n(MCA-Net) which produces high-resolution virtual DE bone images from standard,\\nsingle-shot chest radiographs. Our proposed MCA-Net is trained using the\\nadversarial network so that it learns sharp details for the production of\\nhigh-quality bone images. Then, the virtual DE soft tissue image is generated\\nby processing the standard radiograph with the virtual bone image using a cross\\nprojection transformation. Experimental results from 210 patient DE chest\\nradiographs demonstrated that the algorithm can produce high-quality virtual DE\\nchest radiographs. Important structures were preserved, such as coronary\\ncalcium in bone images and lung lesions in soft tissue images. The average\\nstructure similarity index and the peak signal to noise ratio of the produced\\nbone images in testing data were 96.4 and 41.5, which are significantly better\\nthan results from previous methods. Furthermore, our clinical evaluation\\nresults performed on the publicly available dataset indicates the clinical\\nvalues of our algorithms. Thus, our algorithm can produce high-quality DE\\nimages that are potentially useful for radiologists, computer-aided\\ndiagnostics, and other diagnostic tasks.'\n",
            "Label(s): ['cs.CV']\n",
            "Predicted Label(s): (cs.CV, eess.IV, cs.AI)\n",
            " \n",
            "Abstract: b'Although group convolutional networks are able to learn powerful\\nrepresentations based on symmetry patterns, they lack explicit means to learn\\nmeaningful relationships among them (e.g., relative positions and poses). In\\nthis paper, we present attentive group equivariant convolutions, a\\ngeneralization of the group convolution, in which attention is applied during\\nthe course of convolution to accentuate meaningful symmetry combinations and\\nsuppress non-plausible, misleading ones. We indicate that prior work on visual\\nattention can be described as special cases of our proposed framework and show\\nempirically that our attentive group equivariant convolutional networks\\nconsistently outperform conventional group convolutional networks on benchmark\\nimage datasets. Simultaneously, we provide interpretability to the learned\\nconcepts through the visualization of equivariant attention maps.'\n",
            "Label(s): ['cs.CV' 'cs.LG' 'stat.ML']\n",
            "Predicted Label(s): (cs.LG, cs.CV, stat.ML)\n",
            " \n"
          ]
        }
      ]
    },
    {
      "cell_type": "code",
      "source": [],
      "metadata": {
        "id": "5zjNfE4VVEz0"
      },
      "execution_count": null,
      "outputs": []
    }
  ]
}